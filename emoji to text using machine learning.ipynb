{
 "cells": [
  {
   "cell_type": "markdown",
   "metadata": {},
   "source": [
    "# Emoji Prediction"
   ]
  },
  {
   "cell_type": "markdown",
   "metadata": {},
   "source": [
    "Tetsumichi Umada (Telly)"
   ]
  },
  {
   "cell_type": "markdown",
   "metadata": {},
   "source": [
    "#### Motivation\n",
    "The project idea originally comes from [DeepMoji](https://deepmoji.mit.edu), which translate given text messages into Emojis to describe their emotions, using millions of text messages and state-of-art algorithms. For this project, we predict emotions associated texts. Nowadays, people often send a text to each other. However, it is hard for people to understand and know a sender's emotions from the text. The classifier will further help to represent emotions associated with the text messages. "
   ]
  },
  {
   "cell_type": "markdown",
   "metadata": {},
   "source": [
    "**Datasets**: The data comes from [DeepMoji GitHub repository](https://github.com/bfelbo/DeepMoji/tree/master/data). All the data is in `pickle` format. Using python2 script, we unpickle the data and save it as a`txt` file. Then, we use python3 to apply machine learning algorithms. \n",
    "\n",
    "<br>\n",
    "The python script to extract `pickle` data is saved as `script.py`. The file name needs to be specified at the top of the script. Then, run the program with `python script.py > <filen_name>.txt` to save into a new txt file. And, each line contains text and its label, formatted with: `[<label>] <text>`. \n",
    "\n",
    "<br>\n",
    "We use `psychExp` datasets. Each instance is associated with seven kinds of emotions: joy, fear, anger, sadness, disgust, shame, guilt. "
   ]
  },
  {
   "cell_type": "markdown",
   "metadata": {},
   "source": [
    "### Read data from the text"
   ]
  },
  {
   "cell_type": "code",
   "execution_count": 1,
   "metadata": {},
   "outputs": [],
   "source": [
    "def read_file(file_name): \n",
    "    data_list  = []\n",
    "    with open(file_name, 'r') as f: \n",
    "        for line in f: \n",
    "            line = line.strip() \n",
    "            label = ' '.join(line[1:line.find(\"]\")].strip().split())\n",
    "            text = line[line.find(\"]\")+1:].strip()\n",
    "            data_list.append([label, text])\n",
    "    return data_list "
   ]
  },
  {
   "cell_type": "code",
   "execution_count": 2,
   "metadata": {},
   "outputs": [],
   "source": [
    "# file_name = \"olympic.txt\"\n",
    "file_name = \"data/psychExp.txt\"\n",
    "psychExp_txt = read_file(file_name)"
   ]
  },
  {
   "cell_type": "code",
   "execution_count": 3,
   "metadata": {
    "scrolled": true
   },
   "outputs": [
    {
     "name": "stdout",
     "output_type": "stream",
     "text": [
      "The number of instances: 7480\n"
     ]
    }
   ],
   "source": [
    "print(\"The number of instances: {}\".format(len(psychExp_txt)))"
   ]
  },
  {
   "cell_type": "code",
   "execution_count": 4,
   "metadata": {},
   "outputs": [
    {
     "name": "stdout",
     "output_type": "stream",
     "text": [
      "Data example: \n",
      "['1. 0. 0. 0. 0. 0. 0.', 'During the period of falling in love, each time that we met and especially when we had not met for a long time.']\n"
     ]
    }
   ],
   "source": [
    "print(\"Data example: \")\n",
    "print(psychExp_txt[0])"
   ]
  },
  {
   "cell_type": "markdown",
   "metadata": {},
   "source": [
    "### Features       \n",
    "From the given texts, we made ngrams with a range from 1 to 4. The feature also includes the any punctuations such as `!`, `?`, or `.`. If the data originally come form the Tweets, it contains hash tags (such as `#olympics2012` or `#olympiics`). They are kept as hashtags. \n"
   ]
  },
  {
   "cell_type": "code",
   "execution_count": 5,
   "metadata": {},
   "outputs": [],
   "source": [
    "import re \n",
    "from collections import Counter"
   ]
  },
  {
   "cell_type": "code",
   "execution_count": 6,
   "metadata": {},
   "outputs": [],
   "source": [
    "def ngram(token, n): \n",
    "    output = []\n",
    "    for i in range(n-1, len(token)): \n",
    "        ngram = ' '.join(token[i-n+1:i+1])\n",
    "        output.append(ngram) \n",
    "    return output"
   ]
  },
  {
   "cell_type": "code",
   "execution_count": 7,
   "metadata": {},
   "outputs": [],
   "source": [
    "def create_feature(text, nrange=(1, 1)):\n",
    "    text_features = [] \n",
    "    text = text.lower() \n",
    "\n",
    "    # 1. treat alphanumeric characters as word tokens\n",
    "    # Since tweets contain #, we keep it as a feature\n",
    "    # Then, extract all ngram lengths\n",
    "    text_alphanum = re.sub('[^a-z0-9#]', ' ', text)\n",
    "    for n in range(nrange[0], nrange[1]+1): \n",
    "        text_features += ngram(text_alphanum.split(), n)\n",
    "    \n",
    "    # 2. treat punctuations as word token\n",
    "    text_punc = re.sub('[a-z0-9]', ' ', text)\n",
    "    text_features += ngram(text_punc.split(), 1)\n",
    "    \n",
    "    # 3. Return a dictinaory whose keys are the list of elements \n",
    "    # and their values are the number of times appearede in the list.\n",
    "    return Counter(text_features)"
   ]
  },
  {
   "cell_type": "code",
   "execution_count": 8,
   "metadata": {},
   "outputs": [
    {
     "name": "stdout",
     "output_type": "stream",
     "text": [
      "Counter({'i': 1, 'love': 1, 'you': 1, '!': 1})\n",
      "Counter({'aly': 1, 'wins': 1, 'the': 1, 'gold': 1, '#olympics': 1, '!!!!!!': 1, '#': 1})\n",
      "Counter({'aly': 1, 'wins': 1, 'the': 1, 'gold': 1, '#olympics': 1, 'aly wins': 1, 'wins the': 1, 'the gold': 1, 'gold #olympics': 1, '!!!!!!': 1, '#': 1})\n"
     ]
    }
   ],
   "source": [
    "print(create_feature(\"I love you!\"))\n",
    "print(create_feature(\" aly wins the gold!!!!!!  #olympics\"))\n",
    "print(create_feature(\" aly wins the gold!!!!!!  #olympics\", (1, 2)))"
   ]
  },
  {
   "cell_type": "markdown",
   "metadata": {},
   "source": [
    "**Cnvert the lables and Add features to text data**: "
   ]
  },
  {
   "cell_type": "code",
   "execution_count": 9,
   "metadata": {},
   "outputs": [],
   "source": [
    "def convert_label(item, name): \n",
    "    items = list(map(float, item.split()))\n",
    "    label = \"\"\n",
    "    for idx in range(len(items)): \n",
    "        if items[idx] == 1: \n",
    "            label += name[idx] + \" \"\n",
    "    \n",
    "    return label.strip()"
   ]
  },
  {
   "cell_type": "code",
   "execution_count": 10,
   "metadata": {},
   "outputs": [],
   "source": [
    "emotions = [\"joy\", 'fear', \"anger\", \"sadness\", \"disgust\", \"shame\", \"guilt\"]\n",
    "\n",
    "X_all = []\n",
    "y_all = []\n",
    "for label, text in psychExp_txt:\n",
    "    y_all.append(convert_label(label, emotions))\n",
    "    X_all.append(create_feature(text, nrange=(1, 4)))"
   ]
  },
  {
   "cell_type": "code",
   "execution_count": 11,
   "metadata": {},
   "outputs": [
    {
     "name": "stdout",
     "output_type": "stream",
     "text": [
      "features example: \n",
      "Counter({'time': 2, 'we': 2, 'met': 2, 'during': 1, 'the': 1, 'period': 1, 'of': 1, 'falling': 1, 'in': 1, 'love': 1, 'each': 1, 'that': 1, 'and': 1, 'especially': 1, 'when': 1, 'had': 1, 'not': 1, 'for': 1, 'a': 1, 'long': 1, 'during the': 1, 'the period': 1, 'period of': 1, 'of falling': 1, 'falling in': 1, 'in love': 1, 'love each': 1, 'each time': 1, 'time that': 1, 'that we': 1, 'we met': 1, 'met and': 1, 'and especially': 1, 'especially when': 1, 'when we': 1, 'we had': 1, 'had not': 1, 'not met': 1, 'met for': 1, 'for a': 1, 'a long': 1, 'long time': 1, 'during the period': 1, 'the period of': 1, 'period of falling': 1, 'of falling in': 1, 'falling in love': 1, 'in love each': 1, 'love each time': 1, 'each time that': 1, 'time that we': 1, 'that we met': 1, 'we met and': 1, 'met and especially': 1, 'and especially when': 1, 'especially when we': 1, 'when we had': 1, 'we had not': 1, 'had not met': 1, 'not met for': 1, 'met for a': 1, 'for a long': 1, 'a long time': 1, 'during the period of': 1, 'the period of falling': 1, 'period of falling in': 1, 'of falling in love': 1, 'falling in love each': 1, 'in love each time': 1, 'love each time that': 1, 'each time that we': 1, 'time that we met': 1, 'that we met and': 1, 'we met and especially': 1, 'met and especially when': 1, 'and especially when we': 1, 'especially when we had': 1, 'when we had not': 1, 'we had not met': 1, 'had not met for': 1, 'not met for a': 1, 'met for a long': 1, 'for a long time': 1, ',': 1, '.': 1})\n"
     ]
    }
   ],
   "source": [
    "print(\"features example: \")\n",
    "print(X_all[0])"
   ]
  },
  {
   "cell_type": "code",
   "execution_count": 12,
   "metadata": {},
   "outputs": [
    {
     "name": "stdout",
     "output_type": "stream",
     "text": [
      "Label example:\n",
      "joy\n"
     ]
    }
   ],
   "source": [
    "print(\"Label example:\")\n",
    "print(y_all[0])"
   ]
  },
  {
   "cell_type": "markdown",
   "metadata": {},
   "source": [
    "### Classifiers \n",
    "The following classifiers are used for this project:\n",
    "+ `SVC`\n",
    "+ `LinearSVC`\n",
    "+ `RandomForestClassifier`\n",
    "+ `DecisionTreeClassifier`\n"
   ]
  },
  {
   "cell_type": "markdown",
   "metadata": {},
   "source": [
    "**Data split**: The data is split into 80-20 ratio where 80% for the training and 20% for the testing. We keep 20% to make sure that we have enough amount of the data for testing. We used `train_test_split` to split the data. "
   ]
  },
  {
   "cell_type": "code",
   "execution_count": 13,
   "metadata": {},
   "outputs": [],
   "source": [
    "from sklearn.model_selection  import train_test_split\n",
    "X_train, X_test, y_train, y_test = train_test_split(X_all, y_all, test_size = 0.3, random_state = 123)"
   ]
  },
  {
   "cell_type": "code",
   "execution_count": 14,
   "metadata": {},
   "outputs": [],
   "source": [
    "from sklearn.metrics import accuracy_score\n",
    "\n",
    "def train_test(clf, X_train, X_test, y_train, y_test):\n",
    "    clf.fit(X_train, y_train)\n",
    "    train_acc = accuracy_score(y_train, clf.predict(X_train))\n",
    "    test_acc = accuracy_score(y_test, clf.predict(X_test))\n",
    "    \n",
    "#     print(\"Training acc: {}\".format(train_acc))\n",
    "#     print(\"Test acc    : {}\".format(test_acc))\n",
    "    \n",
    "    return train_acc, test_acc    "
   ]
  },
  {
   "cell_type": "markdown",
   "metadata": {},
   "source": [
    "**DictVectorizer**: The above converts the labeled features into sparse vectors"
   ]
  },
  {
   "cell_type": "code",
   "execution_count": 15,
   "metadata": {},
   "outputs": [],
   "source": [
    "from sklearn.feature_extraction import DictVectorizer\n",
    "vectorizer = DictVectorizer(sparse = True)\n",
    "X_train = vectorizer.fit_transform(X_train)\n",
    "X_test = vectorizer.transform(X_test)"
   ]
  },
  {
   "cell_type": "code",
   "execution_count": 16,
   "metadata": {},
   "outputs": [
    {
     "name": "stdout",
     "output_type": "stream",
     "text": [
      "| Classifier                | Training Accuracy | Test Accuracy |\n",
      "| ------------------------- | ----------------- | ------------- |\n",
      "| SVC                       |         0.9119133 |     0.4612299 |\n",
      "| LinearSVC                 |         0.9988116 |     0.5855615 |\n",
      "| RandomForestClassifier    |         0.9988116 |     0.5681818 |\n",
      "| DecisionTreeClassifier    |         0.9988116 |     0.4438503 |\n",
      "| GradientBoostingClassifier |         0.5652109 |     0.5013369 |\n",
      "| MultinomialNB             |         0.9864825 |     0.5655080 |\n"
     ]
    }
   ],
   "source": [
    "from sklearn.svm import SVC\n",
    "from sklearn.svm import LinearSVC\n",
    "from sklearn.ensemble import RandomForestClassifier\n",
    "from sklearn.tree import DecisionTreeClassifier\n",
    "from sklearn.ensemble import GradientBoostingClassifier\n",
    "from sklearn.naive_bayes import MultinomialNB\n",
    " \n",
    "\n",
    "# Classifiers \n",
    "#svc = SVC()\n",
    "# create and configure model\n",
    "svc = SVC(gamma='scale')\n",
    "lsvc = LinearSVC(random_state=0,max_iter=5000)\n",
    "rforest = RandomForestClassifier(random_state=0,n_estimators=100)\n",
    "dtree = DecisionTreeClassifier()\n",
    "model = GradientBoostingClassifier(n_estimators=100, max_depth=1, random_state=0)\n",
    "mnb = MultinomialNB()\n",
    "\n",
    "clifs = [svc, lsvc, rforest, dtree, model, mnb]\n",
    "\n",
    "# train and test them \n",
    "print(\"| {:25} | {} | {} |\".format(\"Classifier\", \"Training Accuracy\", \"Test Accuracy\"))\n",
    "print(\"| {} | {} | {} |\".format(\"-\"*25, \"-\"*17, \"-\"*13))\n",
    "for clf in clifs: \n",
    "    clf_name = clf.__class__.__name__\n",
    "    train_acc, test_acc = train_test(clf, X_train, X_test, y_train, y_test)\n",
    "    print(\"| {:25} | {:17.7f} | {:13.7f} |\".format(clf_name, train_acc, test_acc))"
   ]
  },
  {
   "cell_type": "markdown",
   "metadata": {},
   "source": [
    "**Results**: The training and test accuracies for each classifier are summarized in the table below.\n",
    "\n",
    "\n",
    "| Classifier                | Training Accuracy | Test Accuracy |\n",
    "| ------------------------- | ----------------- | ------------- |\n",
    "| SVC                       |         0.1458890 |     0.1410428 |\n",
    "| LinearSVC                 |         0.9988302 |     0.5768717 |\n",
    "| RandomForestClassifier    |         0.9911430 |     0.4304813 |\n",
    "| DecisionTreeClassifier    |         0.9988302 |     0.4585561 |\n",
    "\n",
    "\n",
    "\n",
    "By looking at the numbers, the support vector machine works good, meaning it's not overfitting and underfitting. The test accuracy is slightly higher than the other classifiers. The other classifiers are overfitting because the training accuracy is very higher than the test accuracy. "
   ]
  },
  {
   "cell_type": "markdown",
   "metadata": {},
   "source": [
    "**Model Tuning**: Since `LinearSVC` seems to be working good, we further try to tune parameters. "
   ]
  },
  {
   "cell_type": "code",
   "execution_count": null,
   "metadata": {},
   "outputs": [],
   "source": [
    "from sklearn.model_selection import GridSearchCV\n",
    "\n",
    "parameters = {'C':[1, 2, 3, 5, 10, 15, 20, 30, 50, 70, 100], \n",
    "             'tol':[0.1, 0.01, 0.001, 0.0001, 0.00001]}\n",
    "\n",
    "lsvc = LinearSVC(random_state=0,max_iter=10000)\n",
    "grid_obj = GridSearchCV(lsvc, param_grid = parameters, cv=5)\n",
    "grid_obj.fit(X_train, y_train)\n",
    "\n",
    "print(\"Validation acc: {}\".format(grid_obj.best_score_))\n",
    "print(\"Training acc: {}\".format(accuracy_score(y_train, grid_obj.predict(X_train))))\n",
    "print(\"Test acc    : {}\".format(accuracy_score(y_test, grid_obj.predict(X_test))))\n",
    "print(\"Best parameter: {}\".format(grid_obj.best_params_))"
   ]
  },
  {
   "cell_type": "markdown",
   "metadata": {},
   "source": [
    "**Final model**: The final model for this project performs test accuracy 0.576872. Although we tried to tune to minimize the overfitting, it seems to be not working well. As we expected, the accuracy is low.... "
   ]
  },
  {
   "cell_type": "markdown",
   "metadata": {},
   "source": [
    "### Error analysis"
   ]
  },
  {
   "cell_type": "code",
   "execution_count": 19,
   "metadata": {},
   "outputs": [
    {
     "name": "stdout",
     "output_type": "stream",
     "text": [
      "[[112  27  16  23  12  19  19]\n",
      " [ 20 113  11  11  12  17   9]\n",
      " [  9  18 157   3  11  16  10]\n",
      " [ 19  12  15 107  12  17  36]\n",
      " [  7   9   7   7 155  18   8]\n",
      " [ 17   9  17  12  21 137  10]\n",
      " [ 31  19  10  30  17  10  82]]\n"
     ]
    }
   ],
   "source": [
    "from sklearn.metrics import confusion_matrix\n",
    "matrix = confusion_matrix(y_test, grid_obj.predict(X_test))\n",
    "print(matrix)"
   ]
  },
  {
   "cell_type": "code",
   "execution_count": 20,
   "metadata": {},
   "outputs": [
    {
     "data": {
      "image/png": "[encoded data removed]",
      "text/plain": [
       "<Figure size 720x504 with 2 Axes>"
      ]
     },
     "metadata": {
      "needs_background": "light"
     },
     "output_type": "display_data"
    },
    {
     "data": {
      "image/png": "[encoded data removed]",
      "text/plain": [
       "<Figure size 432x432 with 3 Axes>"
      ]
     },
     "metadata": {
      "needs_background": "light"
     },
     "output_type": "display_data"
    }
   ],
   "source": [
    "%matplotlib inline\n",
    "import seaborn as sn\n",
    "import pandas as pd\n",
    "import matplotlib.pyplot as plt\n",
    "\n",
    "l = [\"joy\", 'fear', \"anger\", \"sadness\", \"disgust\", \"shame\", \"guilt\"]\n",
    "l.sort()\n",
    "df_cm = pd.DataFrame(matrix, index = l, columns = l)\n",
    "plt.figure(figsize = (10,7))\n",
    "#\n",
    "sn.heatmap(df_cm, annot=True, fmt=\"d\")\n",
    "\n",
    "g=sn.jointplot(data=df_cm,x='joy',y='disgust',kind='reg', color='g')\n",
    "\n",
    "plt.show()\n",
    "\n",
    "# Reference https://stackoverflow.com/questions/35572000/how-can-i-plot-a-confusion-matrix"
   ]
  },
  {
   "cell_type": "code",
   "execution_count": 54,
   "metadata": {},
   "outputs": [
    {
     "name": "stdout",
     "output_type": "stream",
     "text": [
      "joy       (1. 0. 0. 0. 0. 0. 0.)  1084\n",
      "anger     (0. 0. 1. 0. 0. 0. 0.)  1080\n",
      "sadness   (0. 0. 0. 1. 0. 0. 0.)  1079\n",
      "fear      (0. 1. 0. 0. 0. 0. 0.)  1078\n",
      "disgust   (0. 0. 0. 0. 1. 0. 0.)  1057\n",
      "guilt     (0. 0. 0. 0. 0. 0. 1.)  1057\n",
      "shame     (0. 0. 0. 0. 0. 1. 0.)  1045\n"
     ]
    }
   ],
   "source": [
    "# Get counts for each label\n",
    "label_freq = {}\n",
    "for label, _ in psychExp_txt: \n",
    "    label_freq[label] = label_freq.get(label, 0) + 1\n",
    "\n",
    "# print the labels and their counts in sorted order \n",
    "for l in sorted(label_freq, key=label_freq.get, reverse=True):\n",
    "    print(\"{:10}({})  {}\".format(convert_label(l, emotions), l, label_freq[l]))"
   ]
  },
  {
   "cell_type": "markdown",
   "metadata": {},
   "source": [
    "By looking at the distributions of the labels, the data is distributed well. The errors probably happen because there are not enough data to train the classifier. Also, ngram with the range of 1 to 4 might not be enough or adding noise to the classifiers."
   ]
  },
  {
   "cell_type": "markdown",
   "metadata": {},
   "source": [
    "### Future Work \n",
    "\n",
    "To be able to accurately analyze the text, we probably need to have more data to train the classifiers. Also, it would be better to further experiment with features. (I'm not sure what we can use, but probably there is something to make features) At the same time, by adding more data with emoji, we can predict more emoji associated with the texts. \n",
    "\n",
    "<br> \n",
    "For the future work, we want to have more data and more emoji to analyze and represent the sentiment of the texts. "
   ]
  },
  {
   "cell_type": "markdown",
   "metadata": {},
   "source": [
    "\n",
    "### For fun"
   ]
  },
  {
   "cell_type": "code",
   "execution_count": 21,
   "metadata": {},
   "outputs": [],
   "source": [
    "emoji_dict = {\"joy\":\"😂\", \"fear\":\"😱\", \"anger\":\"😠\", \"sadness\":\"😢\", \"disgust\":\"😒\", \"shame\":\"😳\", \"guilt\":\"😳\"}"
   ]
  },
  {
   "cell_type": "code",
   "execution_count": 22,
   "metadata": {},
   "outputs": [
    {
     "name": "stdout",
     "output_type": "stream",
     "text": [
      "😂 Thank you for dinner!\n",
      ":face_with_tears_of_joy: Thank you for dinner!\n",
      "😢 I don't like it\n",
      ":crying_face: I don't like it\n",
      "😱 My car skidded on the wet street\n",
      ":face_screaming_in_fear: My car skidded on the wet street\n",
      "😢 My cat died\n",
      ":crying_face: My cat died\n",
      "😳 I am not well\n",
      ":flushed_face: I am not well\n",
      "😂 I love cat\n",
      ":face_with_tears_of_joy: I love cat\n",
      "😒 Today is hot!\n",
      ":unamused_face: Today is hot!\n",
      "😳 Great Morning.\n",
      ":flushed_face: Great Morning.\n",
      "😂 I love ice-cream\n",
      ":face_with_tears_of_joy: I love ice-cream\n",
      "😳 Delhi weather is too hot!I can't survive\n",
      ":flushed_face: Delhi weather is too hot!I can't survive\n",
      "😳 How was the day?\n",
      ":flushed_face: How was the day?\n",
      "😂 I am fine.How are you?\n",
      ":face_with_tears_of_joy: I am fine.How are you?\n",
      "😳 Its too cold How i can survive\n",
      ":flushed_face: Its too cold How i can survive\n",
      "😳 😀\n",
      ":flushed_face: :grinning_face:\n"
     ]
    }
   ],
   "source": [
    "t1 = \"Thank you for dinner!\"\n",
    "t2 = \"I don't like it\"\n",
    "t3 = \"My car skidded on the wet street\"\n",
    "t4 = \"My cat died\"\n",
    "t5 = \"I am not well\"\n",
    "t6 = \"I love cat\"\n",
    "t7 = \"Today is hot!\"\n",
    "t8 = \"Great Morning.\"\n",
    "t9 = \"I love ice-cream\"\n",
    "t10= \"Delhi weather is too hot!I can't survive\"\n",
    "t11= \"How was the day?\"\n",
    "t12= \"I am fine.How are you?\"\n",
    "t13= \"Its too cold How i can survive\"\n",
    "t14=\"\\U0001f600\"\n",
    "import emoji\n",
    "\n",
    "texts = [t1, t2, t3, t4,t5,t6,t7,t8,t9,t10,t11,t12,t13,t14]\n",
    "for text in texts: \n",
    "    features = create_feature(text, nrange=(1, 14))\n",
    "    features = vectorizer.transform(features)\n",
    "    prediction = grid_obj.predict(features)[0]\n",
    "    print(\"{} {}\".format(emoji_dict[prediction], text))\n",
    "    print(emoji.demojize(\"{} {}\".format(emoji_dict[prediction],text)))"
   ]
  },
  {
   "cell_type": "markdown",
   "metadata": {},
   "source": [
    "### Reference \n",
    "+ [DeepMoji](https://www.media.mit.edu/projects/deepmoji/overview/)\n",
    "+ [DeepMoji GitHub](https://github.com/bfelbo/DeepMoji)\n",
    "+ [Multiclass and multilabel algorithms](http://scikit-learn.org/stable/modules/multiclass.html)\n",
    "+ [sklearn.svm.SVC](http://scikit-learn.org/stable/modules/generated/sklearn.svm.SVC.html)\n",
    "+ [sklearn.svm.LinearSVC](http://scikit-learn.org/stable/modules/generated/sklearn.svm.LinearSVC.html)\n",
    "+ [sklearn.ensemble.RandomForestClassifie](http://scikit-learn.org/stable/modules/generated/sklearn.ensemble.RandomForestClassifier.html)\n",
    "+ [sklearn.tree.DecisionTreeClassifier](http://scikit-learn.org/stable/modules/generated/sklearn.tree.DecisionTreeClassifier.html)\n"
   ]
  },
  {
   "cell_type": "code",
   "execution_count": null,
   "metadata": {
    "collapsed": true
   },
   "outputs": [],
   "source": []
  }
 ],
 "metadata": {
  "kernelspec": {
   "display_name": "Python 3",
   "language": "python",
   "name": "python3"
  },
  "language_info": {
   "codemirror_mode": {
    "name": "ipython",
    "version": 3
   },
   "file_extension": ".py",
   "mimetype": "text/x-python",
   "name": "python",
   "nbconvert_exporter": "python",
   "pygments_lexer": "ipython3",
   "version": "3.7.3"
  }
 },
 "nbformat": 4,
 "nbformat_minor": 2
}
